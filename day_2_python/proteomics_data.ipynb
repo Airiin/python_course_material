{
 "metadata": {
  "name": "csv_data"
 },
 "nbformat": 3,
 "nbformat_minor": 0,
 "worksheets": [
  {
   "cells": [
    {
     "cell_type": "markdown",
     "metadata": {},
     "source": [
      "Now we will look at some proteomics data.\n",
      "\n",
      "To make this easier, `pandas` provides a `read_csv` method that easily turns this data into a useful form."
     ]
    },
    {
     "cell_type": "code",
     "collapsed": false,
     "input": [
      "import os\n",
      "import pandas as pd\n",
      "\n",
      "data_dir = 'data'\n",
      "data_file = 'proteomics_data.csv'\n",
      "\n",
      "data_frame = pd.read_csv(os.path.join(data_dir, data_file))\n",
      "data_frame"
     ],
     "language": "python",
     "metadata": {},
     "outputs": []
    },
    {
     "cell_type": "markdown",
     "metadata": {},
     "source": [
      "`index_col=0` specifies that the first column should be used as an index column instead \n",
      "of creating a new column(in this case Uniprot codes)."
     ]
    },
    {
     "cell_type": "code",
     "collapsed": false,
     "input": [
      "data_frame = pd.read_csv(os.path.join(data_dir, data_file), index_col=0)\n",
      "data_frame"
     ],
     "language": "python",
     "metadata": {},
     "outputs": []
    },
    {
     "cell_type": "markdown",
     "metadata": {},
     "source": [
      "Lets have a quick look at the statistics in both dimensions."
     ]
    },
    {
     "cell_type": "code",
     "collapsed": false,
     "input": [
      "data_frame.describe()"
     ],
     "language": "python",
     "metadata": {},
     "outputs": []
    },
    {
     "cell_type": "code",
     "collapsed": false,
     "input": [
      "data_frame.T.describe()"
     ],
     "language": "python",
     "metadata": {},
     "outputs": []
    },
    {
     "cell_type": "markdown",
     "metadata": {},
     "source": [
      "Try to plot the data for the two proteins with the lowest standard deviation (for their five measumrents)."
     ]
    }
   ],
   "metadata": {}
  }
 ]
}