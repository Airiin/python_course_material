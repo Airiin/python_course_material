{
 "metadata": {
  "name": "PowerSet"
 },
 "nbformat": 3,
 "nbformat_minor": 0,
 "worksheets": [
  {
   "cells": [
    {
     "cell_type": "code",
     "collapsed": false,
     "input": [
      "from itertools import chain, combinations\n",
      "%load_ext sympy.interactive.ipythonprinting"
     ],
     "language": "python",
     "metadata": {},
     "outputs": [],
     "prompt_number": 1
    },
    {
     "cell_type": "markdown",
     "metadata": {},
     "source": [
      "Sets in Python are constructed with curly braces.  \n",
      "The members of sets are unique, but the type does not matter."
     ]
    },
    {
     "cell_type": "code",
     "collapsed": false,
     "input": [
      "a = {1,2,3}"
     ],
     "language": "python",
     "metadata": {},
     "outputs": [],
     "prompt_number": 2
    },
    {
     "cell_type": "markdown",
     "metadata": {},
     "source": [
      "Iterables can be converted to sets using the set() function:"
     ]
    },
    {
     "cell_type": "code",
     "collapsed": false,
     "input": [
      "c = set([1,4,5])\n",
      "d = set((1,6,7))"
     ],
     "language": "python",
     "metadata": {},
     "outputs": [],
     "prompt_number": 3
    },
    {
     "cell_type": "markdown",
     "metadata": {},
     "source": [
      "Both dictionaries and sets use curly braces, so do not confuse them."
     ]
    },
    {
     "cell_type": "code",
     "collapsed": false,
     "input": [
      "b = {1:1, 4:2, 5:3}\n",
      "c2 = set(b) # Keys are the primary iterable of dictionaries.\n",
      "a2 = set(b.values()) # Values are also possible.\n",
      "c2 == c, a2 == a"
     ],
     "language": "python",
     "metadata": {},
     "outputs": [
      {
       "latex": [
        "$$\\begin{pmatrix}True, & True\\end{pmatrix}$$"
       ],
       "output_type": "pyout",
       "prompt_number": 4,
       "text": [
        "(True, True)"
       ]
      }
     ],
     "prompt_number": 4
    },
    {
     "cell_type": "markdown",
     "metadata": {},
     "source": [
      "Set objects provide useful methods:"
     ]
    },
    {
     "cell_type": "code",
     "collapsed": false,
     "input": [
      "assert c.intersection(a) == a.intersection(c)\n",
      "c.intersection(a)"
     ],
     "language": "python",
     "metadata": {},
     "outputs": [
      {
       "latex": [
        "$$\\left\\{1\\right\\}$$"
       ],
       "output_type": "pyout",
       "prompt_number": 5,
       "text": [
        "set([1])"
       ]
      }
     ],
     "prompt_number": 5
    },
    {
     "cell_type": "code",
     "collapsed": false,
     "input": [
      "assert a.union(c) == c.union(a)\n",
      "c.union(a)"
     ],
     "language": "python",
     "metadata": {},
     "outputs": [
      {
       "latex": [
        "$$\\left\\{1, 2, 3, 4, 5\\right\\}$$"
       ],
       "output_type": "pyout",
       "prompt_number": 6,
       "text": [
        "set([1, 2, 3, 4, 5])"
       ]
      }
     ],
     "prompt_number": 6
    },
    {
     "cell_type": "markdown",
     "metadata": {},
     "source": [
      "The difference method means relative compliment:"
     ]
    },
    {
     "cell_type": "code",
     "collapsed": false,
     "input": [
      "c.difference(a), a.difference(c)"
     ],
     "language": "python",
     "metadata": {},
     "outputs": [
      {
       "latex": [
        "$$\\begin{pmatrix}\\left\\{4, 5\\right\\}, & \\left\\{2, 3\\right\\}\\end{pmatrix}$$"
       ],
       "output_type": "pyout",
       "prompt_number": 7,
       "text": [
        "(set([4, 5]), set([2, 3]))"
       ]
      }
     ],
     "prompt_number": 7
    },
    {
     "cell_type": "markdown",
     "metadata": {},
     "source": [
      "The symmetric difference of A and B can be found as follows:"
     ]
    },
    {
     "cell_type": "code",
     "collapsed": false,
     "input": [
      "c.difference(a).union(a.difference(c))"
     ],
     "language": "python",
     "metadata": {},
     "outputs": [
      {
       "latex": [
        "$$\\left\\{2, 3, 4, 5\\right\\}$$"
       ],
       "output_type": "pyout",
       "prompt_number": 8,
       "text": [
        "set([2, 3, 4, 5])"
       ]
      }
     ],
     "prompt_number": 8
    },
    {
     "cell_type": "markdown",
     "metadata": {},
     "source": [
      "The powerset of a set can be computed easily:"
     ]
    },
    {
     "cell_type": "code",
     "collapsed": false,
     "input": [
      "def assert_set(it):\n",
      "    if len(it) != len(set(it)): \n",
      "        raise UserWarning('Please provide a proper set', it)\n",
      "        \n",
      "def powerset(it):\n",
      "    assert_set(it)\n",
      "    return chain.from_iterable(combinations(it, r) for r in range(len(it)+1))\n",
      "\n",
      "for s in [a,c,d]:\n",
      "    out = 'Set {0} contains the following sets:'.format(tuple(s))\n",
      "    for it in powerset(s):\n",
      "        out += '\\n    {0}'.format(tuple(it))\n",
      "    print(out) "
     ],
     "language": "python",
     "metadata": {},
     "outputs": [
      {
       "output_type": "stream",
       "stream": "stdout",
       "text": [
        "Set (1, 2, 3) contains the following sets:\n",
        "    ()\n",
        "    (1,)\n",
        "    (2,)\n",
        "    (3,)\n",
        "    (1, 2)\n",
        "    (1, 3)\n",
        "    (2, 3)\n",
        "    (1, 2, 3)\n",
        "Set (1, 4, 5) contains the following sets:\n",
        "    ()\n",
        "    (1,)\n",
        "    (4,)\n",
        "    (5,)\n",
        "    (1, 4)\n",
        "    (1, 5)\n",
        "    (4, 5)\n",
        "    (1, 4, 5)\n",
        "Set (1, 6, 7) contains the following sets:\n",
        "    ()\n",
        "    (1,)\n",
        "    (6,)\n",
        "    (7,)\n",
        "    (1, 6)\n",
        "    (1, 7)\n",
        "    (6, 7)\n",
        "    (1, 6, 7)\n"
       ]
      }
     ],
     "prompt_number": 9
    }
   ],
   "metadata": {}
  }
 ]
}