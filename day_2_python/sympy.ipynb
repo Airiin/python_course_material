{
 "metadata": {
  "name": "Untitled1"
 },
 "nbformat": 3,
 "nbformat_minor": 0,
 "worksheets": [
  {
   "cells": [
    {
     "cell_type": "code",
     "collapsed": false,
     "input": [
      "import sympy as s\n",
      "%load_ext sympy.interactive.ipythonprinting\n",
      "x = s.symbols(\"x\")\n",
      "\n",
      "fn = (x ** 2) / (x - 2)\n",
      "fn"
     ],
     "language": "python",
     "metadata": {},
     "outputs": []
    },
    {
     "cell_type": "code",
     "collapsed": false,
     "input": [
      "fn.diff()"
     ],
     "language": "python",
     "metadata": {},
     "outputs": []
    },
    {
     "cell_type": "code",
     "collapsed": false,
     "input": [
      "c1 = (0.2,0.8,0)\n",
      "c2 = (0.8,0.2,0)\n",
      "fn_plot = s.plot(fn, (x, 2.4, 10), \n",
      "                 line_color=c1,\n",
      "                 title=fn)\n",
      "dfn_plot = s.plot(fn.diff(), (x, 2.7, 10), \n",
      "                  line_color=c2, \n",
      "                  title=fn.diff())"
     ],
     "language": "python",
     "metadata": {},
     "outputs": []
    }
   ],
   "metadata": {}
  }
 ]
}