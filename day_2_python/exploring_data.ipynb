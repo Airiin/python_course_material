{
 "metadata": {
  "name": "exploring_data"
 },
 "nbformat": 3,
 "nbformat_minor": 0,
 "worksheets": [
  {
   "cells": [
    {
     "cell_type": "markdown",
     "metadata": {},
     "source": [
      "Let's import some protein abundance data from a tab separated file."
     ]
    },
    {
     "cell_type": "code",
     "collapsed": false,
     "input": [
      "import csv\n",
      "\n",
      "data_file = 'de_Godoy_Nature_2008.txt'\n",
      "data_file = 'integrated_dataset.txt'\n",
      "\n",
      "all_data = []\n",
      "with open(data_file, 'r') as f:\n",
      "    r = csv.reader(f, delimiter=\"\\t\")\n",
      "    for id_number, yeast_code, ppm_value in r:\n",
      "        all_data.append(float(ppm_value))"
     ],
     "language": "python",
     "metadata": {},
     "outputs": []
    },
    {
     "cell_type": "markdown",
     "metadata": {},
     "source": [
      "The first step in data exploration is often a quick \n",
      "statistical description.  The `pandas` library is useful for this."
     ]
    },
    {
     "cell_type": "code",
     "collapsed": false,
     "input": [
      "import pandas\n",
      "df = pandas.DataFrame(all_data)\n",
      "df.describe()"
     ],
     "language": "python",
     "metadata": {},
     "outputs": []
    },
    {
     "cell_type": "markdown",
     "metadata": {},
     "source": [
      "We can see from the `pandas.DataFrame.describe` method that this data has a very wide range of abundance values.  A common method to view this data together is to transform it with a logarithmic function."
     ]
    },
    {
     "cell_type": "code",
     "collapsed": false,
     "input": [
      "import math \n",
      "\n",
      "#log_data = []\n",
      "#for value in all_data:\n",
      "#    log_data.append(math.log(value))\n",
      "\n",
      "# We can replace the above code with a list comprehension\n",
      "log_data = [math.log(v) for v in all_data]"
     ],
     "language": "python",
     "metadata": {},
     "outputs": []
    },
    {
     "cell_type": "markdown",
     "metadata": {},
     "source": [
      "Now we can plot the data in a histogram."
     ]
    },
    {
     "cell_type": "code",
     "collapsed": false,
     "input": [
      "import matplotlib.pyplot as plt\n",
      "pylab.rcParams['figure.figsize'] = 10, 8\n",
      "n, bins, patches = plt.hist(log_data, 200, normed=0, histtype='bar')\n",
      "\n",
      "# Removes black lines from rectangles\n",
      "# and sets every second one to be red. \n",
      "# Adds an alpha value to each rectangle.\n",
      "for index, p in enumerate(patches):\n",
      "    p.set_linewidth(0)\n",
      "    if index%2:\n",
      "        p.set_color('red')\n",
      "    p.set_alpha(0.5)\n",
      "        \n",
      "plt.title('Histogram of log(protein abundance in ppm)')\n",
      "plt.xlabel('log(protein abundance in ppm)')\n",
      "d = plt.ylabel('Number of proteins in bin')"
     ],
     "language": "python",
     "metadata": {},
     "outputs": []
    }
   ],
   "metadata": {}
  }
 ]
}