{
 "metadata": {
  "name": "Untitled0"
 },
 "nbformat": 3,
 "nbformat_minor": 0,
 "worksheets": [
  {
   "cells": [
    {
     "cell_type": "code",
     "collapsed": false,
     "input": [
      "import sympy as s\n",
      "%load_ext sympy.interactive.ipythonprinting\n",
      "\n",
      "x,y,z = s.symbols(\"x y z\")\n",
      "k,m,n = s.symbols(\"k m n\", integer=True)"
     ],
     "language": "python",
     "metadata": {},
     "outputs": [],
     "prompt_number": 6
    },
    {
     "cell_type": "code",
     "collapsed": false,
     "input": [
      "t = s.sin(2 * s.pi * x * k**2) / (4 * s.pi**2 * k**5)   +   (x**2) / (2*k)"
     ],
     "language": "python",
     "metadata": {},
     "outputs": [],
     "prompt_number": 11
    },
    {
     "cell_type": "code",
     "collapsed": false,
     "input": [
      "t"
     ],
     "language": "python",
     "metadata": {},
     "outputs": [
      {
       "latex": [
        "$$\\frac{x^{2}}{2 k} + \\frac{\\sin{\\left (2 \\pi k^{2} x \\right )}}{4 \\pi^{2} k^{5}}$$"
       ],
       "output_type": "pyout",
       "png": "[encoded data removed]",
       "prompt_number": 12,
       "text": [
        "  2      \u239b     2  \u239e\n",
        " x    sin\u239d2\u22c5\u03c0\u22c5k \u22c5x\u23a0\n",
        "\u2500\u2500\u2500 + \u2500\u2500\u2500\u2500\u2500\u2500\u2500\u2500\u2500\u2500\u2500\u2500\u2500\n",
        "2\u22c5k         2  5   \n",
        "         4\u22c5\u03c0 \u22c5k    "
       ]
      }
     ],
     "prompt_number": 12
    },
    {
     "cell_type": "code",
     "collapsed": false,
     "input": [],
     "language": "python",
     "metadata": {},
     "outputs": []
    }
   ],
   "metadata": {}
  }
 ]
}