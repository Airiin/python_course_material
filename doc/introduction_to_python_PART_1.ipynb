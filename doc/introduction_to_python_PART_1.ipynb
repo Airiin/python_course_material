{
 "metadata": {
  "name": "introduction_to_python_PART_1"
 },
 "nbformat": 3,
 "nbformat_minor": 0,
 "worksheets": [
  {
   "cells": [
    {
     "cell_type": "markdown",
     "metadata": {},
     "source": [
      "Introduction to scientific computing with Python\n",
      "------------------------------------------------\n",
      "------------------------------------------------\n",
      "\n",
      "David Schryer (schryer@ut.ee)\n",
      "\n",
      "* https://github.com/schryer    \n",
      "* https://bitbucket.org/schryer\n",
      "\n",
      "All notebooks in this lecture series are available at\n",
      "\n",
      "* https://github.com/schryer/python_course_material"
     ]
    },
    {
     "cell_type": "markdown",
     "metadata": {},
     "source": [
      "Running Python code\n",
      "-------------------\n",
      "-------------------\n",
      "\n",
      "* Python code is interpreted by a program that follows the instructions in the code.\n",
      "\n",
      "* Strings of Python code can be fed to the interpreter as follows:\n",
      "\n",
      "        python -c \"a = 5 + 2; print(a)\"\n",
      "\n",
      "* In this case the interpreter stores the result of `5 + 2` in the variable `a` (assignment) and then feeds this value into the print function which does what it should.  A semicolon `;` was used here to tell the interpreter that these are two separate statements (processed from left to right).  Usually statements are placed on different lines to separate them (semicolons are *optional*):"
     ]
    },
    {
     "cell_type": "code",
     "collapsed": false,
     "input": [
      "a = 5 + 2\n",
      "print(a)"
     ],
     "language": "python",
     "metadata": {},
     "outputs": []
    },
    {
     "cell_type": "markdown",
     "metadata": {},
     "source": [
      "* If we execute the Python interpreter without any arguments, it takes us into a special environment that interactively interprets what we feed it:\n",
      "\n",
      "        python"
     ]
    },
    {
     "cell_type": "markdown",
     "metadata": {},
     "source": [
      "DO NOT LOOK HERE.\n",
      "=================\n",
      "\n",
      "OPEN A TERMINAL.  \n",
      "================\n",
      "\n",
      "TRY IT OUT.\n",
      "===========\n",
      "\n",
      "* \n",
      "\n",
      "* \n",
      "\n",
      "* \n",
      "\n",
      "* \n",
      "\n",
      "* \n",
      "\n",
      "* \n",
      "\n",
      "* \n",
      "\n",
      "* \n",
      "\n",
      "* \n",
      "\n",
      "* \n",
      "\n",
      "* \n",
      "\n",
      "* \n",
      "\n",
      "* \n",
      "\n",
      "* \n",
      "\n",
      "* \n",
      "\n",
      "* \n",
      "\n",
      "* \n",
      "\n",
      "* \n",
      "\n",
      "* \n",
      "\n",
      "* \n",
      "\n",
      "* .\n",
      "\n",
      "Did everything work?  \n",
      "====================\n",
      "\n",
      "YES?  \n",
      "====\n",
      "\n",
      "Keep going and MAKE IT FAIL:\n",
      "============================\n",
      "\n",
      "* \n",
      "\n",
      "* \n",
      "\n",
      "* \n",
      "\n",
      "* \n",
      "\n",
      "* \n",
      "\n",
      "* \n",
      "\n",
      "* \n",
      "\n",
      "* \n",
      "\n",
      "* \n",
      "\n",
      "* \n",
      "\n",
      "* \n",
      "\n",
      "* \n",
      "\n",
      "* \n",
      "\n",
      "* \n",
      "\n",
      "* \n",
      "\n",
      "* .\n",
      "\n",
      "What error(s) did you get?\n",
      "==========================\n",
      "\n",
      "Ask the people around you if you do not understand any of these errors.  (Useful even outside of the Python world)."
     ]
    },
    {
     "cell_type": "markdown",
     "metadata": {},
     "source": [
      "Store your Python code in files (modules)\n",
      "-----------------------------------------\n",
      "-----------------------------------------\n",
      "\n",
      "* Python code is most often stored in text files; usually with a `.py` extension: \n",
      "\n",
      "        myprogram.py\n",
      "\n",
      "* To run the Python code in this file we use:\n",
      "\n",
      "        python myprogram.py"
     ]
    },
    {
     "cell_type": "markdown",
     "metadata": {},
     "source": [
      "IPython notebooks can also store Python code\n",
      "--------------------------------------------\n",
      "--------------------------------------------\n",
      "\n",
      "* Python code can also be stored in an IPython notebook; usually with a `.ipynb` extension.\n",
      "\n",
      "* Notebooks are stored in the [JSON](http://en.wikipedia.org/wiki/JSON) format allowing one \n",
      "to mix formatted text, Python code and code output. \n",
      "\n",
      "* To run an IPython notebook we use:\n",
      "\n",
      "        ipython notebook mynotebook.ipynb\n",
      "\n",
      "* If you start IPython notebook with the --script option, the Python code you write will be \n",
      "saved in another file with a `.py` extension:\n",
      "\n",
      "        ipython notebook mynotebook.ipynb --script\n",
      "\n",
      "This will generate another file `mynotebook.py` which can be used as above (and in other ways we will learn).\n"
     ]
    },
    {
     "cell_type": "markdown",
     "metadata": {},
     "source": [
      "First steps in learning Python syntax\n",
      "-------------------------------------\n",
      "\n",
      "IPython provides a `help` function.  Try:"
     ]
    },
    {
     "cell_type": "code",
     "collapsed": false,
     "input": [
      "help(1)"
     ],
     "language": "python",
     "metadata": {},
     "outputs": []
    },
    {
     "cell_type": "markdown",
     "metadata": {},
     "source": [
      "You will learn things you never knew about integers, and a whole lot about operators like `+`.\n",
      "\n",
      "A shorter version of help is available but it only works on variables, not *expressions* like `1` or `41**(3 /2.0)`:"
     ]
    },
    {
     "cell_type": "code",
     "collapsed": false,
     "input": [
      "b = 1.0\n",
      "b?"
     ],
     "language": "python",
     "metadata": {},
     "outputs": []
    },
    {
     "cell_type": "markdown",
     "metadata": {},
     "source": [
      "Is `1` different than `1.0` ?\n",
      "-----------------------------"
     ]
    },
    {
     "cell_type": "markdown",
     "metadata": {},
     "source": [
      "Lets see:"
     ]
    },
    {
     "cell_type": "code",
     "collapsed": false,
     "input": [
      "type(1.0), type(1)"
     ],
     "language": "python",
     "metadata": {},
     "outputs": []
    },
    {
     "cell_type": "markdown",
     "metadata": {},
     "source": [
      "We can do different things with integers and floating point values:\n",
      "\n",
      "Try typing `1.0` followed by a dot as such `1.0.`\n",
      "\n",
      "* now hit TAB.\n",
      "\n",
      "You will see a list after `1.0.`  \n",
      "\n",
      "These are the public objects within all floating point numbers that are intended to be used. \n",
      "\n",
      "Some of these objects are functions, which require brackets `()` to envoke or call:"
     ]
    },
    {
     "cell_type": "code",
     "collapsed": false,
     "input": [
      "1.0.conjugate(), type(1.0.conjugate)"
     ],
     "language": "python",
     "metadata": {},
     "outputs": []
    },
    {
     "cell_type": "markdown",
     "metadata": {},
     "source": [
      "Some of these objects are also floating point numbers:"
     ]
    },
    {
     "cell_type": "code",
     "collapsed": false,
     "input": [
      "1.0.imag, type(1.0.imag)"
     ],
     "language": "python",
     "metadata": {},
     "outputs": []
    },
    {
     "cell_type": "markdown",
     "metadata": {},
     "source": [
      "So what is the *real* difference between 1.0 and 1?"
     ]
    },
    {
     "cell_type": "code",
     "collapsed": false,
     "input": [
      "1.0.as_integer_ratio()"
     ],
     "language": "python",
     "metadata": {},
     "outputs": []
    },
    {
     "cell_type": "code",
     "collapsed": false,
     "input": [
      "a = 1\n",
      "a.denominator, a.numerator"
     ],
     "language": "python",
     "metadata": {},
     "outputs": []
    },
    {
     "cell_type": "markdown",
     "metadata": {},
     "source": [
      "These number seem to be defined by the same integer ratio, which makes them mathematically equivalent. \n",
      "However, Python defines different types of `Number` objects.  \n",
      "\n",
      "`isinstance` checks if two objects are of the same type"
     ]
    },
    {
     "cell_type": "code",
     "collapsed": false,
     "input": [
      "isinstance(1.0, float), isinstance(a, int)"
     ],
     "language": "python",
     "metadata": {},
     "outputs": []
    },
    {
     "cell_type": "markdown",
     "metadata": {},
     "source": [
      "`float` objects cannot be interpreted as `int` objects:"
     ]
    },
    {
     "cell_type": "code",
     "collapsed": false,
     "input": [
      "isinstance(1.0, int)"
     ],
     "language": "python",
     "metadata": {},
     "outputs": []
    },
    {
     "cell_type": "markdown",
     "metadata": {},
     "source": [
      "However, it is more difficult to confirm that `int` objects can be interpreted as `float` objects.\n",
      "\n",
      "We need the `numbers` module. "
     ]
    },
    {
     "cell_type": "code",
     "collapsed": false,
     "input": [
      "import numbers\n",
      "isinstance(a, numbers.Real), isinstance(a, numbers.Integral)"
     ],
     "language": "python",
     "metadata": {},
     "outputs": []
    },
    {
     "cell_type": "markdown",
     "metadata": {},
     "source": [
      "Direct comparison of object types is not often needed in Python, so if \n",
      "you find yourself using `isinstance` very often you are probably not \n",
      "writing `Pythonic` code. "
     ]
    },
    {
     "cell_type": "code",
     "collapsed": false,
     "input": [
      "import sys\n",
      "import IPython\n",
      "print(\"This notebook was evaluated with: Python %s and IPython %s.\" % (sys.version, IPython.__version__))"
     ],
     "language": "python",
     "metadata": {},
     "outputs": []
    }
   ],
   "metadata": {}
  }
 ]
}